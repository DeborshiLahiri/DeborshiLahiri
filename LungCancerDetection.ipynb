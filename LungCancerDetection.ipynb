{
  "nbformat": 4,
  "nbformat_minor": 0,
  "metadata": {
    "colab": {
      "name": "HackACode.ipynb",
      "provenance": [],
      "collapsed_sections": [],
      "toc_visible": true,
      "authorship_tag": "ABX9TyNszyf+Wdu9dINyNkttrNSt",
      "include_colab_link": true
    },
    "kernelspec": {
      "name": "python3",
      "display_name": "Python 3"
    },
    "language_info": {
      "name": "python"
    }
  },
  "cells": [
    {
      "cell_type": "markdown",
      "metadata": {
        "id": "view-in-github",
        "colab_type": "text"
      },
      "source": [
        "<a href=\"https://colab.research.google.com/github/DeborshiLahiri/DeborshiLahiri/blob/main/HackACode.ipynb\" target=\"_parent\"><img src=\"https://colab.research.google.com/assets/colab-badge.svg\" alt=\"Open In Colab\"/></a>"
      ]
    },
    {
      "cell_type": "code",
      "metadata": {
        "colab": {
          "resources": {
            "http://localhost:8080/nbextensions/google.colab/files.js": {
              "data": "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",
              "ok": true,
              "headers": [
                [
                  "content-type",
                  "application/javascript"
                ]
              ],
              "status": 200,
              "status_text": ""
            }
          },
          "base_uri": "https://localhost:8080/",
          "height": 106
        },
        "id": "Cg3aexbT7qvw",
        "outputId": "1d4c645f-8eac-4812-a2cc-ee5e6526210e"
      },
      "source": [
        "import tensorflow as tf\n",
        "from tensorflow import keras\n",
        "import numpy as np\n",
        "import pandas as pd\n",
        "from google.colab import files\n",
        "import io\n",
        "from tensorflow.keras import layers\n",
        "from matplotlib import pyplot as plt\n",
        "u = files.upload()\n",
        "a= pd.read_csv(io.BytesIO(u['training_data.csv']))\n",
        "b= pd.read_csv(io.BytesIO(u['testing_data.csv']))"
      ],
      "execution_count": null,
      "outputs": [
        {
          "output_type": "display_data",
          "data": {
            "text/html": [
              "\n",
              "     <input type=\"file\" id=\"files-c0166058-7d4e-4aa5-8dc7-3eebf2fd8d0e\" name=\"files[]\" multiple disabled\n",
              "        style=\"border:none\" />\n",
              "     <output id=\"result-c0166058-7d4e-4aa5-8dc7-3eebf2fd8d0e\">\n",
              "      Upload widget is only available when the cell has been executed in the\n",
              "      current browser session. Please rerun this cell to enable.\n",
              "      </output>\n",
              "      <script src=\"/nbextensions/google.colab/files.js\"></script> "
            ],
            "text/plain": [
              "<IPython.core.display.HTML object>"
            ]
          },
          "metadata": {
            "tags": []
          }
        },
        {
          "output_type": "stream",
          "text": [
            "Saving training_data.csv to training_data (1).csv\n",
            "Saving testing_data.csv to testing_data (1).csv\n"
          ],
          "name": "stdout"
        }
      ]
    },
    {
      "cell_type": "code",
      "metadata": {
        "id": "cEFAwxFgDXRM"
      },
      "source": [
        "a = a.reindex(np.random.permutation(a.index))\n",
        "b= b.reindex(np.random.permutation(b.index))\n",
        "def change(x):\n",
        "        if x=='High': return 1\n",
        "        if x=='Medium':   return 0.5\n",
        "        if x=='Low':   return 0\n",
        "a['Level'] = a['Level'].apply(change)\n",
        "a['Level'] = pd.to_numeric(a['Level'])\n",
        "def changes(x):\n",
        "        if x=='High': return 1\n",
        "        if x=='Medium':   return 0.5\n",
        "        if x=='Low':   return 0\n",
        "b['Level'] = b['Level'].apply(changes)\n",
        "b['Level'] = pd.to_numeric(b['Level'])"
      ],
      "execution_count": null,
      "outputs": []
    },
    {
      "cell_type": "code",
      "metadata": {
        "id": "osQ2afH2Y0DF"
      },
      "source": [
        "#a['Obesity'] = a['Obesity'].astype('float')\n",
        "#a['Coughing of Blood'] = a['Coughing of Blood'].astype('float')"
      ],
      "execution_count": null,
      "outputs": []
    },
    {
      "cell_type": "code",
      "metadata": {
        "colab": {
          "base_uri": "https://localhost:8080/"
        },
        "id": "Vudvz5NaktFO",
        "outputId": "094c3060-3d74-4174-9b76-f12bcd3ba992"
      },
      "source": [
        "a.dtypes"
      ],
      "execution_count": null,
      "outputs": [
        {
          "output_type": "execute_result",
          "data": {
            "text/plain": [
              "Patient Id                   object\n",
              "Age                           int64\n",
              "Gender                        int64\n",
              "Air Pollution                 int64\n",
              "Alcohol use                   int64\n",
              "Dust Allergy                  int64\n",
              "OccuPational Hazards          int64\n",
              "Genetic Risk                  int64\n",
              "chronic Lung Disease          int64\n",
              "Balanced Diet                 int64\n",
              "Obesity                       int64\n",
              "Smoking                       int64\n",
              "Passive Smoker                int64\n",
              "Chest Pain                    int64\n",
              "Coughing of Blood             int64\n",
              "Fatigue                       int64\n",
              "Weight Loss                   int64\n",
              "Shortness of Breath           int64\n",
              "Wheezing                      int64\n",
              "Swallowing Difficulty         int64\n",
              "Clubbing of Finger Nails      int64\n",
              "Frequent Cold                 int64\n",
              "Dry Cough                     int64\n",
              "Snoring                       int64\n",
              "Level                       float64\n",
              "dtype: object"
            ]
          },
          "metadata": {
            "tags": []
          },
          "execution_count": 7
        }
      ]
    },
    {
      "cell_type": "code",
      "metadata": {
        "id": "v4WZg_TE-JnB",
        "colab": {
          "base_uri": "https://localhost:8080/"
        },
        "outputId": "ee80d248-73d7-442c-9650-67c0db69e096"
      },
      "source": [
        "def build_model(my_learning_rate):\n",
        "   model = tf.keras.models.Sequential()\n",
        "   model.add(tf.keras.layers.Dense(units=1, input_shape=(1,)))\n",
        "   model.compile(optimizer=tf.keras.optimizers.RMSprop(lr=my_learning_rate),\n",
        "                loss=\"mean_squared_error\",\n",
        "                metrics=[tf.keras.metrics.RootMeanSquaredError()])\n",
        "   return model               \n",
        "\n",
        "\n",
        "def train_model(model, df, feature, label, my_epochs, \n",
        "                my_batch_size):\n",
        "    history = model.fit(x=df[feature],\n",
        "                      y=df[label],\n",
        "                      batch_size=my_batch_size,\n",
        "                      epochs=my_epochs)\n",
        "    trained_weight = model.get_weights()[0]\n",
        "    trained_bias = model.get_weights()[1]\n",
        "    epochs = history.epoch\n",
        "    hist = pd.DataFrame(history.history)\n",
        "    rmse = hist[\"root_mean_squared_error\"]\n",
        "    return trained_weight, trained_bias, epochs, rmse, hist  \n",
        "print(\"Defined the build_model and train_model functions.\")"
      ],
      "execution_count": null,
      "outputs": [
        {
          "output_type": "stream",
          "text": [
            "Defined the build_model and train_model functions.\n"
          ],
          "name": "stdout"
        }
      ]
    },
    {
      "cell_type": "code",
      "metadata": {
        "id": "hVl2WDS8cauE"
      },
      "source": [
        "from matplotlib import pyplot as plt\n",
        "def plot_the_model(trained_weight, trained_bias, feature, label):\n",
        "  plt.xlabel(feature)\n",
        "  plt.ylabel(label)\n",
        "  random_examples = a.sample(n=200)\n",
        "  plt.scatter(random_examples[feature], random_examples[label])\n",
        "  x0 = 0\n",
        "  y0 = trained_bias\n",
        "  x1 = 10000\n",
        "  y1 = trained_bias + (trained_weight * x1)\n",
        "  plt.plot([x0, x1], [y0, y1], c='r')\n",
        "  plt.show()\n",
        "def plot_the_loss_curve(epochs, rmse):\n",
        "  plt.figure()\n",
        "  plt.xlabel(\"Epoch\")\n",
        "  plt.ylabel(\"Root Mean Squared Error\")\n",
        "  plt.plot(epochs, rmse, label=\"Loss\")\n",
        "  plt.legend()\n",
        "  plt.ylim([rmse.min()*0.97, rmse.max()])\n",
        "  plt.show()  "
      ],
      "execution_count": null,
      "outputs": []
    },
    {
      "cell_type": "code",
      "metadata": {
        "colab": {
          "base_uri": "https://localhost:8080/",
          "height": 1000
        },
        "id": "OWP1CmK7dew7",
        "outputId": "659665b2-6c4d-4b4c-ee09-3896ae114972"
      },
      "source": [
        "learning_rate = 0.005\n",
        "epochs = 100\n",
        "batch_size = 150\n",
        "my_feature= \"Obesity\"\n",
        "e = a.reindex(np.random.permutation(a.index))  \n",
        "my_label=\"Level\" \n",
        "my_model = None\n",
        "my_model = build_model(learning_rate)\n",
        "weight, bias, epochs, rmse, hist = train_model(my_model, e, \n",
        "                                         my_feature, my_label,\n",
        "                                         epochs, batch_size)\n",
        "print(\"\\nThe learned weight for your model is %.4f\" % weight)\n",
        "print(\"The learned bias for your model is %.4f\\n\" % bias )\n",
        "plot_the_model(weight, bias, my_feature, my_label)\n",
        "plot_the_loss_curve(epochs, rmse)\n",
        "\n",
        "print(\"Defined the plot_curve function.\")"
      ],
      "execution_count": null,
      "outputs": [
        {
          "output_type": "stream",
          "text": [
            "/usr/local/lib/python3.7/dist-packages/tensorflow/python/keras/optimizer_v2/optimizer_v2.py:375: UserWarning: The `lr` argument is deprecated, use `learning_rate` instead.\n",
            "  \"The `lr` argument is deprecated, use `learning_rate` instead.\")\n"
          ],
          "name": "stderr"
        },
        {
          "output_type": "stream",
          "text": [
            "Epoch 1/100\n",
            "6/6 [==============================] - 0s 2ms/step - loss: 0.2486 - root_mean_squared_error: 0.4986\n",
            "Epoch 2/100\n",
            "6/6 [==============================] - 0s 3ms/step - loss: 0.1102 - root_mean_squared_error: 0.3320\n",
            "Epoch 3/100\n",
            "6/6 [==============================] - 0s 2ms/step - loss: 0.0762 - root_mean_squared_error: 0.2760\n",
            "Epoch 4/100\n",
            "6/6 [==============================] - 0s 3ms/step - loss: 0.0674 - root_mean_squared_error: 0.2597\n",
            "Epoch 5/100\n",
            "6/6 [==============================] - 0s 3ms/step - loss: 0.0653 - root_mean_squared_error: 0.2555\n",
            "Epoch 6/100\n",
            "6/6 [==============================] - 0s 2ms/step - loss: 0.0642 - root_mean_squared_error: 0.2533\n",
            "Epoch 7/100\n",
            "6/6 [==============================] - 0s 3ms/step - loss: 0.0630 - root_mean_squared_error: 0.2510\n",
            "Epoch 8/100\n",
            "6/6 [==============================] - 0s 2ms/step - loss: 0.0617 - root_mean_squared_error: 0.2483\n",
            "Epoch 9/100\n",
            "6/6 [==============================] - 0s 3ms/step - loss: 0.0601 - root_mean_squared_error: 0.2452\n",
            "Epoch 10/100\n",
            "6/6 [==============================] - 0s 2ms/step - loss: 0.0594 - root_mean_squared_error: 0.2438\n",
            "Epoch 11/100\n",
            "6/6 [==============================] - 0s 3ms/step - loss: 0.0587 - root_mean_squared_error: 0.2423\n",
            "Epoch 12/100\n",
            "6/6 [==============================] - 0s 2ms/step - loss: 0.0574 - root_mean_squared_error: 0.2397\n",
            "Epoch 13/100\n",
            "6/6 [==============================] - 0s 2ms/step - loss: 0.0566 - root_mean_squared_error: 0.2380\n",
            "Epoch 14/100\n",
            "6/6 [==============================] - 0s 2ms/step - loss: 0.0566 - root_mean_squared_error: 0.2379\n",
            "Epoch 15/100\n",
            "6/6 [==============================] - 0s 2ms/step - loss: 0.0561 - root_mean_squared_error: 0.2369\n",
            "Epoch 16/100\n",
            "6/6 [==============================] - 0s 3ms/step - loss: 0.0553 - root_mean_squared_error: 0.2352\n",
            "Epoch 17/100\n",
            "6/6 [==============================] - 0s 2ms/step - loss: 0.0549 - root_mean_squared_error: 0.2343\n",
            "Epoch 18/100\n",
            "6/6 [==============================] - 0s 2ms/step - loss: 0.0549 - root_mean_squared_error: 0.2343\n",
            "Epoch 19/100\n",
            "6/6 [==============================] - 0s 2ms/step - loss: 0.0548 - root_mean_squared_error: 0.2341\n",
            "Epoch 20/100\n",
            "6/6 [==============================] - 0s 2ms/step - loss: 0.0549 - root_mean_squared_error: 0.2343\n",
            "Epoch 21/100\n",
            "6/6 [==============================] - 0s 2ms/step - loss: 0.0545 - root_mean_squared_error: 0.2334\n",
            "Epoch 22/100\n",
            "6/6 [==============================] - 0s 2ms/step - loss: 0.0546 - root_mean_squared_error: 0.2336\n",
            "Epoch 23/100\n",
            "6/6 [==============================] - 0s 2ms/step - loss: 0.0543 - root_mean_squared_error: 0.2330\n",
            "Epoch 24/100\n",
            "6/6 [==============================] - 0s 3ms/step - loss: 0.0543 - root_mean_squared_error: 0.2331\n",
            "Epoch 25/100\n",
            "6/6 [==============================] - 0s 2ms/step - loss: 0.0547 - root_mean_squared_error: 0.2339\n",
            "Epoch 26/100\n",
            "6/6 [==============================] - 0s 3ms/step - loss: 0.0540 - root_mean_squared_error: 0.2324\n",
            "Epoch 27/100\n",
            "6/6 [==============================] - 0s 2ms/step - loss: 0.0546 - root_mean_squared_error: 0.2338\n",
            "Epoch 28/100\n",
            "6/6 [==============================] - 0s 3ms/step - loss: 0.0543 - root_mean_squared_error: 0.2331\n",
            "Epoch 29/100\n",
            "6/6 [==============================] - 0s 3ms/step - loss: 0.0543 - root_mean_squared_error: 0.2331\n",
            "Epoch 30/100\n",
            "6/6 [==============================] - 0s 2ms/step - loss: 0.0548 - root_mean_squared_error: 0.2341\n",
            "Epoch 31/100\n",
            "6/6 [==============================] - 0s 3ms/step - loss: 0.0542 - root_mean_squared_error: 0.2328\n",
            "Epoch 32/100\n",
            "6/6 [==============================] - 0s 3ms/step - loss: 0.0541 - root_mean_squared_error: 0.2327\n",
            "Epoch 33/100\n",
            "6/6 [==============================] - 0s 3ms/step - loss: 0.0543 - root_mean_squared_error: 0.2331\n",
            "Epoch 34/100\n",
            "6/6 [==============================] - 0s 6ms/step - loss: 0.0544 - root_mean_squared_error: 0.2332\n",
            "Epoch 35/100\n",
            "6/6 [==============================] - 0s 3ms/step - loss: 0.0543 - root_mean_squared_error: 0.2330\n",
            "Epoch 36/100\n",
            "6/6 [==============================] - 0s 2ms/step - loss: 0.0542 - root_mean_squared_error: 0.2327\n",
            "Epoch 37/100\n",
            "6/6 [==============================] - 0s 3ms/step - loss: 0.0550 - root_mean_squared_error: 0.2346\n",
            "Epoch 38/100\n",
            "6/6 [==============================] - 0s 3ms/step - loss: 0.0540 - root_mean_squared_error: 0.2325\n",
            "Epoch 39/100\n",
            "6/6 [==============================] - 0s 3ms/step - loss: 0.0544 - root_mean_squared_error: 0.2333\n",
            "Epoch 40/100\n",
            "6/6 [==============================] - 0s 3ms/step - loss: 0.0542 - root_mean_squared_error: 0.2329\n",
            "Epoch 41/100\n",
            "6/6 [==============================] - 0s 3ms/step - loss: 0.0543 - root_mean_squared_error: 0.2330\n",
            "Epoch 42/100\n",
            "6/6 [==============================] - 0s 3ms/step - loss: 0.0542 - root_mean_squared_error: 0.2328\n",
            "Epoch 43/100\n",
            "6/6 [==============================] - 0s 3ms/step - loss: 0.0542 - root_mean_squared_error: 0.2329\n",
            "Epoch 44/100\n",
            "6/6 [==============================] - 0s 3ms/step - loss: 0.0541 - root_mean_squared_error: 0.2326\n",
            "Epoch 45/100\n",
            "6/6 [==============================] - 0s 3ms/step - loss: 0.0541 - root_mean_squared_error: 0.2325\n",
            "Epoch 46/100\n",
            "6/6 [==============================] - 0s 4ms/step - loss: 0.0547 - root_mean_squared_error: 0.2338\n",
            "Epoch 47/100\n",
            "6/6 [==============================] - 0s 2ms/step - loss: 0.0542 - root_mean_squared_error: 0.2328\n",
            "Epoch 48/100\n",
            "6/6 [==============================] - 0s 2ms/step - loss: 0.0541 - root_mean_squared_error: 0.2325\n",
            "Epoch 49/100\n",
            "6/6 [==============================] - 0s 2ms/step - loss: 0.0545 - root_mean_squared_error: 0.2334\n",
            "Epoch 50/100\n",
            "6/6 [==============================] - 0s 2ms/step - loss: 0.0545 - root_mean_squared_error: 0.2334\n",
            "Epoch 51/100\n",
            "6/6 [==============================] - 0s 2ms/step - loss: 0.0540 - root_mean_squared_error: 0.2324\n",
            "Epoch 52/100\n",
            "6/6 [==============================] - 0s 2ms/step - loss: 0.0549 - root_mean_squared_error: 0.2343\n",
            "Epoch 53/100\n",
            "6/6 [==============================] - 0s 2ms/step - loss: 0.0544 - root_mean_squared_error: 0.2331\n",
            "Epoch 54/100\n",
            "6/6 [==============================] - 0s 3ms/step - loss: 0.0542 - root_mean_squared_error: 0.2329\n",
            "Epoch 55/100\n",
            "6/6 [==============================] - 0s 3ms/step - loss: 0.0546 - root_mean_squared_error: 0.2337\n",
            "Epoch 56/100\n",
            "6/6 [==============================] - 0s 2ms/step - loss: 0.0541 - root_mean_squared_error: 0.2326\n",
            "Epoch 57/100\n",
            "6/6 [==============================] - 0s 2ms/step - loss: 0.0541 - root_mean_squared_error: 0.2327\n",
            "Epoch 58/100\n",
            "6/6 [==============================] - 0s 2ms/step - loss: 0.0542 - root_mean_squared_error: 0.2329\n",
            "Epoch 59/100\n",
            "6/6 [==============================] - 0s 2ms/step - loss: 0.0546 - root_mean_squared_error: 0.2337\n",
            "Epoch 60/100\n",
            "6/6 [==============================] - 0s 2ms/step - loss: 0.0551 - root_mean_squared_error: 0.2347\n",
            "Epoch 61/100\n",
            "6/6 [==============================] - 0s 4ms/step - loss: 0.0543 - root_mean_squared_error: 0.2329\n",
            "Epoch 62/100\n",
            "6/6 [==============================] - 0s 2ms/step - loss: 0.0541 - root_mean_squared_error: 0.2326\n",
            "Epoch 63/100\n",
            "6/6 [==============================] - 0s 3ms/step - loss: 0.0540 - root_mean_squared_error: 0.2324\n",
            "Epoch 64/100\n",
            "6/6 [==============================] - 0s 3ms/step - loss: 0.0549 - root_mean_squared_error: 0.2343\n",
            "Epoch 65/100\n",
            "6/6 [==============================] - 0s 2ms/step - loss: 0.0544 - root_mean_squared_error: 0.2332\n",
            "Epoch 66/100\n",
            "6/6 [==============================] - 0s 2ms/step - loss: 0.0543 - root_mean_squared_error: 0.2331\n",
            "Epoch 67/100\n",
            "6/6 [==============================] - 0s 2ms/step - loss: 0.0544 - root_mean_squared_error: 0.2333\n",
            "Epoch 68/100\n",
            "6/6 [==============================] - 0s 2ms/step - loss: 0.0550 - root_mean_squared_error: 0.2345\n",
            "Epoch 69/100\n",
            "6/6 [==============================] - 0s 2ms/step - loss: 0.0543 - root_mean_squared_error: 0.2330\n",
            "Epoch 70/100\n",
            "6/6 [==============================] - 0s 2ms/step - loss: 0.0550 - root_mean_squared_error: 0.2345\n",
            "Epoch 71/100\n",
            "6/6 [==============================] - 0s 3ms/step - loss: 0.0542 - root_mean_squared_error: 0.2328\n",
            "Epoch 72/100\n",
            "6/6 [==============================] - 0s 3ms/step - loss: 0.0543 - root_mean_squared_error: 0.2331\n",
            "Epoch 73/100\n",
            "6/6 [==============================] - 0s 3ms/step - loss: 0.0543 - root_mean_squared_error: 0.2331\n",
            "Epoch 74/100\n",
            "6/6 [==============================] - 0s 3ms/step - loss: 0.0539 - root_mean_squared_error: 0.2321\n",
            "Epoch 75/100\n",
            "6/6 [==============================] - 0s 3ms/step - loss: 0.0540 - root_mean_squared_error: 0.2325\n",
            "Epoch 76/100\n",
            "6/6 [==============================] - 0s 2ms/step - loss: 0.0548 - root_mean_squared_error: 0.2342\n",
            "Epoch 77/100\n",
            "6/6 [==============================] - 0s 3ms/step - loss: 0.0544 - root_mean_squared_error: 0.2332\n",
            "Epoch 78/100\n",
            "6/6 [==============================] - 0s 3ms/step - loss: 0.0540 - root_mean_squared_error: 0.2323\n",
            "Epoch 79/100\n",
            "6/6 [==============================] - 0s 3ms/step - loss: 0.0542 - root_mean_squared_error: 0.2328\n",
            "Epoch 80/100\n",
            "6/6 [==============================] - 0s 3ms/step - loss: 0.0551 - root_mean_squared_error: 0.2347\n",
            "Epoch 81/100\n",
            "6/6 [==============================] - 0s 3ms/step - loss: 0.0542 - root_mean_squared_error: 0.2329\n",
            "Epoch 82/100\n",
            "6/6 [==============================] - 0s 5ms/step - loss: 0.0543 - root_mean_squared_error: 0.2331\n",
            "Epoch 83/100\n",
            "6/6 [==============================] - 0s 3ms/step - loss: 0.0545 - root_mean_squared_error: 0.2334\n",
            "Epoch 84/100\n",
            "6/6 [==============================] - 0s 2ms/step - loss: 0.0541 - root_mean_squared_error: 0.2326\n",
            "Epoch 85/100\n",
            "6/6 [==============================] - 0s 2ms/step - loss: 0.0548 - root_mean_squared_error: 0.2340\n",
            "Epoch 86/100\n",
            "6/6 [==============================] - 0s 2ms/step - loss: 0.0541 - root_mean_squared_error: 0.2327\n",
            "Epoch 87/100\n",
            "6/6 [==============================] - 0s 3ms/step - loss: 0.0541 - root_mean_squared_error: 0.2327\n",
            "Epoch 88/100\n",
            "6/6 [==============================] - 0s 3ms/step - loss: 0.0543 - root_mean_squared_error: 0.2331\n",
            "Epoch 89/100\n",
            "6/6 [==============================] - 0s 3ms/step - loss: 0.0543 - root_mean_squared_error: 0.2330\n",
            "Epoch 90/100\n",
            "6/6 [==============================] - 0s 2ms/step - loss: 0.0540 - root_mean_squared_error: 0.2324\n",
            "Epoch 91/100\n",
            "6/6 [==============================] - 0s 3ms/step - loss: 0.0543 - root_mean_squared_error: 0.2331\n",
            "Epoch 92/100\n",
            "6/6 [==============================] - 0s 2ms/step - loss: 0.0547 - root_mean_squared_error: 0.2339\n",
            "Epoch 93/100\n",
            "6/6 [==============================] - 0s 2ms/step - loss: 0.0545 - root_mean_squared_error: 0.2334\n",
            "Epoch 94/100\n",
            "6/6 [==============================] - 0s 2ms/step - loss: 0.0544 - root_mean_squared_error: 0.2332\n",
            "Epoch 95/100\n",
            "6/6 [==============================] - 0s 3ms/step - loss: 0.0541 - root_mean_squared_error: 0.2327\n",
            "Epoch 96/100\n",
            "6/6 [==============================] - 0s 2ms/step - loss: 0.0543 - root_mean_squared_error: 0.2330\n",
            "Epoch 97/100\n",
            "6/6 [==============================] - 0s 2ms/step - loss: 0.0542 - root_mean_squared_error: 0.2327\n",
            "Epoch 98/100\n",
            "6/6 [==============================] - 0s 3ms/step - loss: 0.0549 - root_mean_squared_error: 0.2342\n",
            "Epoch 99/100\n",
            "6/6 [==============================] - 0s 2ms/step - loss: 0.0540 - root_mean_squared_error: 0.2324\n",
            "Epoch 100/100\n",
            "6/6 [==============================] - 0s 2ms/step - loss: 0.0542 - root_mean_squared_error: 0.2328\n",
            "\n",
            "The learned weight for your model is 0.1562\n",
            "The learned bias for your model is -0.1781\n",
            "\n"
          ],
          "name": "stdout"
        },
        {
          "output_type": "stream",
          "text": [
            "/usr/local/lib/python3.7/dist-packages/numpy/core/_asarray.py:136: VisibleDeprecationWarning: Creating an ndarray from ragged nested sequences (which is a list-or-tuple of lists-or-tuples-or ndarrays with different lengths or shapes) is deprecated. If you meant to do this, you must specify 'dtype=object' when creating the ndarray\n",
            "  return array(a, dtype, copy=False, order=order, subok=True)\n"
          ],
          "name": "stderr"
        },
        {
          "output_type": "display_data",
          "data": {
            "image/png": "[encoded data removed]",
            "text/plain": [
              "<Figure size 432x288 with 1 Axes>"
            ]
          },
          "metadata": {
            "tags": [],
            "needs_background": "light"
          }
        },
        {
          "output_type": "display_data",
          "data": {
            "image/png": "[encoded data removed]",
            "text/plain": [
              "<Figure size 432x288 with 1 Axes>"
            ]
          },
          "metadata": {
            "tags": [],
            "needs_background": "light"
          }
        },
        {
          "output_type": "stream",
          "text": [
            "Defined the plot_curve function.\n"
          ],
          "name": "stdout"
        }
      ]
    },
    {
      "cell_type": "code",
      "metadata": {
        "id": "N0Ck6gSui24H"
      },
      "source": [
        "def predict(n, feature, label):\n",
        "  batch = b[feature][0:0 +n]\n",
        "  predicted_values = my_model.predict_on_batch(x=batch)\n",
        "  print(\"Patient Id     Level\")\n",
        "  print(\"--------------------------------------\")\n",
        "  for i in range(n):\n",
        "    if(predicted_values[i][0]>=0 and predicted_values[i][0]<=0.3):\n",
        "      print (b.at[i,\"Patient Id\"], \"           \",\"Low\" )  \n",
        "    if(predicted_values[i][0]>=0.4 and predicted_values[i][0]<=0.6):\n",
        "      print (b.at[i,\"Patient Id\"], \"           \",\"Medium\" )  \n",
        "    if(predicted_values[i][0]>=0.7 and predicted_values[i][0]<=1):\n",
        "      print (b.at[i,\"Patient Id\"], \"           \",\"High\" )  "
      ],
      "execution_count": null,
      "outputs": []
    },
    {
      "cell_type": "code",
      "metadata": {
        "colab": {
          "base_uri": "https://localhost:8080/"
        },
        "id": "KJIWJ3T3UbL1",
        "outputId": "28c4a4e5-1c7a-4912-cabd-282ebb2e20e4"
      },
      "source": [
        "predict(201, my_feature, my_label)"
      ],
      "execution_count": null,
      "outputs": [
        {
          "output_type": "stream",
          "text": [
            "Patient Id     Level\n",
            "--------------------------------------\n",
            "P818             High\n",
            "P82             Medium\n",
            "P820             Low\n",
            "P822             High\n",
            "P823             Medium\n",
            "P824             Low\n",
            "P825             Medium\n",
            "P826             High\n",
            "P827             Low\n",
            "P828             Low\n",
            "P829             Low\n",
            "P83             Low\n",
            "P830             Low\n",
            "P831             High\n",
            "P832             High\n",
            "P833             Low\n",
            "P834             High\n",
            "P835             High\n",
            "P836             Medium\n",
            "P837             Medium\n",
            "P838             Low\n",
            "P839             Medium\n",
            "P84             Medium\n",
            "P840             High\n",
            "P841             Low\n",
            "P842             High\n",
            "P843             High\n",
            "P844             Medium\n",
            "P845             Low\n",
            "P846             Low\n",
            "P847             High\n",
            "P848             High\n",
            "P849             High\n",
            "P85             Low\n",
            "P850             Low\n",
            "P851             Low\n",
            "P853             High\n",
            "P854             High\n",
            "P855             Low\n",
            "P856             Low\n",
            "P857             High\n",
            "P858             High\n",
            "P859             Medium\n",
            "P86             High\n",
            "P860             High\n",
            "P861             High\n",
            "P862             Low\n",
            "P863             Low\n",
            "P864             Low\n",
            "P865             Medium\n",
            "P866             High\n",
            "P867             High\n",
            "P868             High\n",
            "P869             High\n",
            "P87             Low\n",
            "P870             High\n",
            "P871             High\n",
            "P872             Low\n",
            "P873             Low\n",
            "P874             High\n",
            "P875             High\n",
            "P876             High\n",
            "P878             High\n",
            "P879             High\n",
            "P88             High\n",
            "P880             Medium\n",
            "P881             High\n",
            "P882             Medium\n",
            "P883             High\n",
            "P884             High\n",
            "P885             High\n",
            "P886             High\n",
            "P887             Low\n",
            "P888             High\n",
            "P889             High\n",
            "P89             Low\n",
            "P890             High\n",
            "P891             Medium\n",
            "P892             High\n",
            "P893             Low\n",
            "P894             Medium\n",
            "P895             High\n",
            "P896             High\n",
            "P897             Low\n",
            "P899             Low\n",
            "P9             Low\n",
            "P90             High\n",
            "P900             Low\n",
            "P901             Medium\n",
            "P902             Low\n",
            "P903             Medium\n",
            "P904             Low\n",
            "P905             Low\n",
            "P907             Low\n",
            "P908             High\n",
            "P909             Medium\n",
            "P91             High\n",
            "P910             Low\n",
            "P912             Low\n",
            "P913             Low\n",
            "P914             High\n",
            "P916             Low\n",
            "P917             Medium\n",
            "P918             High\n",
            "P92             Medium\n",
            "P920             High\n",
            "P921             Medium\n",
            "P922             High\n",
            "P923             High\n",
            "P924             Low\n",
            "P925             Low\n",
            "P926             Medium\n",
            "P927             Low\n",
            "P928             Low\n",
            "P93             Medium\n",
            "P930             Medium\n",
            "P931             High\n",
            "P932             High\n",
            "P933             High\n",
            "P934             Medium\n",
            "P935             Medium\n",
            "P936             High\n",
            "P937             High\n",
            "P938             Medium\n",
            "P939             Low\n",
            "P94             Low\n",
            "P940             High\n",
            "P941             Low\n",
            "P942             Medium\n",
            "P944             Medium\n",
            "P947             High\n",
            "P948             High\n",
            "P949             High\n",
            "P95             Low\n",
            "P950             Low\n",
            "P951             High\n",
            "P952             Medium\n",
            "P953             Low\n",
            "P954             Low\n",
            "P955             Low\n",
            "P956             High\n",
            "P957             Low\n",
            "P958             Low\n",
            "P959             High\n",
            "P96             Low\n",
            "P960             Low\n",
            "P961             High\n",
            "P962             High\n",
            "P963             High\n",
            "P964             High\n",
            "P965             High\n",
            "P966             High\n",
            "P967             High\n",
            "P968             High\n",
            "P969             Medium\n",
            "P97             Medium\n",
            "P970             Low\n",
            "P971             Low\n",
            "P972             Medium\n",
            "P973             High\n",
            "P974             Medium\n",
            "P975             Low\n",
            "P976             High\n",
            "P977             High\n",
            "P978             Low\n",
            "P979             Low\n",
            "P98             Low\n",
            "P981             High\n",
            "P982             Low\n",
            "P983             High\n",
            "P984             Medium\n",
            "P985             Medium\n",
            "P986             Medium\n",
            "P987             High\n",
            "P988             Low\n",
            "P989             High\n",
            "P991             Low\n",
            "P992             Low\n",
            "P993             High\n",
            "P994             Medium\n",
            "P996             High\n",
            "P997             Medium\n",
            "P998             High\n",
            "P999             High\n"
          ],
          "name": "stdout"
        }
      ]
    }
  ]
}
